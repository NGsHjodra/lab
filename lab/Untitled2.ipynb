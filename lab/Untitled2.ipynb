{
 "cells": [
  {
   "cell_type": "code",
   "execution_count": 4,
   "id": "smaller-welcome",
   "metadata": {},
   "outputs": [
    {
     "data": {
      "text/plain": [
       "<bound method s of <__main__.C object at 0x0000028F1B2178E0>>"
      ]
     },
     "execution_count": 4,
     "metadata": {},
     "output_type": "execute_result"
    }
   ],
   "source": [
    "class C:\n",
    "    x = 3\n",
    "def s(a):\n",
    "    print(a.x)\n",
    "a = C()\n",
    "a.x = 2\n",
    "C.s = s\n",
    "a.s"
   ]
  },
  {
   "cell_type": "code",
   "execution_count": 9,
   "id": "distant-catch",
   "metadata": {},
   "outputs": [
    {
     "name": "stdout",
     "output_type": "stream",
     "text": [
      "07b\n"
     ]
    }
   ],
   "source": [
    "print(f\"{123:03x}\")"
   ]
  },
  {
   "cell_type": "code",
   "execution_count": null,
   "id": "animal-regard",
   "metadata": {},
   "outputs": [],
   "source": [
    "\n",
    "import win32api, wiimport timen32con\n",
    "\n",
    "time.sleep(5)\n",
    "while 1:\n",
    "    win32api.mouse_event(win32con.MOUSEEVENTF_LEFTDOWN,0,0)\n",
    "    time.sleep(0.01)\n",
    "    win32api.mouse_event(win32con.MOUSEEVENTF_LEFTUP,0,0)"
   ]
  }
 ],
 "metadata": {
  "kernelspec": {
   "display_name": "Python 3",
   "language": "python",
   "name": "python3"
  },
  "language_info": {
   "codemirror_mode": {
    "name": "ipython",
    "version": 3
   },
   "file_extension": ".py",
   "mimetype": "text/x-python",
   "name": "python",
   "nbconvert_exporter": "python",
   "pygments_lexer": "ipython3",
   "version": "3.9.1"
  }
 },
 "nbformat": 4,
 "nbformat_minor": 5
}
