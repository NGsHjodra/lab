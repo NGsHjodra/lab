{
 "cells": [
  {
   "cell_type": "code",
   "execution_count": 1,
   "id": "intelligent-failing",
   "metadata": {},
   "outputs": [
    {
     "name": "stdout",
     "output_type": "stream",
     "text": [
      "Requirement already satisfied: pyautogui in c:\\users\\phuttimate niyakit\\appdata\\local\\programs\\python\\python39\\lib\\site-packages (0.9.52)\n",
      "Requirement already satisfied: pymsgbox in c:\\users\\phuttimate niyakit\\appdata\\local\\programs\\python\\python39\\lib\\site-packages (from pyautogui) (1.0.9)\n",
      "Requirement already satisfied: PyTweening>=1.0.1 in c:\\users\\phuttimate niyakit\\appdata\\local\\programs\\python\\python39\\lib\\site-packages (from pyautogui) (1.0.3)\n",
      "Requirement already satisfied: pyscreeze>=0.1.21 in c:\\users\\phuttimate niyakit\\appdata\\local\\programs\\python\\python39\\lib\\site-packages (from pyautogui) (0.1.27)\n",
      "Requirement already satisfied: pygetwindow>=0.0.5 in c:\\users\\phuttimate niyakit\\appdata\\local\\programs\\python\\python39\\lib\\site-packages (from pyautogui) (0.0.9)\n",
      "Requirement already satisfied: mouseinfo in c:\\users\\phuttimate niyakit\\appdata\\local\\programs\\python\\python39\\lib\\site-packages (from pyautogui) (0.1.3)\n",
      "Requirement already satisfied: pyrect in c:\\users\\phuttimate niyakit\\appdata\\local\\programs\\python\\python39\\lib\\site-packages (from pygetwindow>=0.0.5->pyautogui) (0.1.4)\n",
      "Requirement already satisfied: pyperclip in c:\\users\\phuttimate niyakit\\appdata\\local\\programs\\python\\python39\\lib\\site-packages (from mouseinfo->pyautogui) (1.8.2)\n",
      "Requirement already satisfied: opencv-python in c:\\users\\phuttimate niyakit\\appdata\\local\\programs\\python\\python39\\lib\\site-packages (4.5.2.52)\n",
      "Requirement already satisfied: numpy>=1.19.3 in c:\\users\\phuttimate niyakit\\appdata\\local\\programs\\python\\python39\\lib\\site-packages (from opencv-python) (1.20.1)\n",
      "Requirement already satisfied: pywin32 in c:\\users\\phuttimate niyakit\\appdata\\roaming\\python\\python39\\site-packages (300)\n"
     ]
    }
   ],
   "source": [
    "!pip install pyautogui\n",
    "!pip install opencv-python\n",
    "!pip install pywin32"
   ]
  },
  {
   "cell_type": "code",
   "execution_count": 13,
   "id": "played-beast",
   "metadata": {},
   "outputs": [],
   "source": [
    "import pyautogui\n",
    "import time\n",
    "import cv2\n",
    "import win32api, win32con"
   ]
  },
  {
   "cell_type": "code",
   "execution_count": 14,
   "id": "false-usage",
   "metadata": {},
   "outputs": [],
   "source": [
    "def click(x,y) :\n",
    "    win32api.SetCursorPos((x,y))\n",
    "    win32api.mouse_event(win32con.MOUSEEVENTF_LEFTDOWN,0,0)\n",
    "    time.sleep(0.01)\n",
    "    win32api.mouse_event(win32con.MOUSEEVENTF_LEFTUP,0,0)"
   ]
  },
  {
   "cell_type": "code",
   "execution_count": 4,
   "id": "revolutionary-measure",
   "metadata": {},
   "outputs": [],
   "source": [
    "def Oneclick(filename):\n",
    "    while True :\n",
    "        position = pyautogui.locateOnScreen(filename, confidence=0.9)\n",
    "        if position is not None:\n",
    "            click(position)\n",
    "            print(filename + \" clicked\")\n",
    "            break\n",
    "    \n",
    "def Multipleclick(filename):\n",
    "    while True :\n",
    "        position = pyautogui.locateOnScreen(filename, confidence=0.9)\n",
    "        \n",
    "        if position is None :\n",
    "            pyautogui.scroll(-500) \n",
    "            print(\"srcoll\")\n",
    "            position = pyautogui.locateOnScreen(filename, confidence=0.9)\n",
    "        \n",
    "            if position is None:\n",
    "                print(\"pass\") \n",
    "                break\n",
    "            \n",
    "        click(position)\n",
    "        print(filename + \" clicked\")\n",
    "        \n",
    "def InitTask(filename):\n",
    "     while True :\n",
    "        position = pyautogui.locateOnScreen(filename, confidence=0.9)\n",
    "        if position is not None:\n",
    "            \n",
    "            break"
   ]
  },
  {
   "cell_type": "code",
   "execution_count": 15,
   "id": "senior-edwards",
   "metadata": {},
   "outputs": [
    {
     "name": "stdout",
     "output_type": "stream",
     "text": [
      "(202, 189)\n"
     ]
    },
    {
     "ename": "AttributeError",
     "evalue": "module 'win32con' has no attribute 'MOUSEEVENT_LEFTDOWN'",
     "output_type": "error",
     "traceback": [
      "\u001b[1;31m---------------------------------------------------------------------------\u001b[0m",
      "\u001b[1;31mAttributeError\u001b[0m                            Traceback (most recent call last)",
      "\u001b[1;32m<ipython-input-15-ec5799498092>\u001b[0m in \u001b[0;36m<module>\u001b[1;34m\u001b[0m\n\u001b[0;32m      5\u001b[0m     \u001b[1;32mif\u001b[0m \u001b[0mposition\u001b[0m \u001b[1;32mis\u001b[0m \u001b[1;32mnot\u001b[0m \u001b[1;32mNone\u001b[0m\u001b[1;33m:\u001b[0m\u001b[1;33m\u001b[0m\u001b[1;33m\u001b[0m\u001b[0m\n\u001b[0;32m      6\u001b[0m         \u001b[0mprint\u001b[0m\u001b[1;33m(\u001b[0m\u001b[0mposition\u001b[0m\u001b[1;33m[\u001b[0m\u001b[1;36m0\u001b[0m\u001b[1;33m:\u001b[0m\u001b[1;36m2\u001b[0m\u001b[1;33m]\u001b[0m\u001b[1;33m)\u001b[0m\u001b[1;33m\u001b[0m\u001b[1;33m\u001b[0m\u001b[0m\n\u001b[1;32m----> 7\u001b[1;33m         \u001b[0mclick\u001b[0m\u001b[1;33m(\u001b[0m\u001b[0mposition\u001b[0m\u001b[1;33m[\u001b[0m\u001b[1;36m0\u001b[0m\u001b[1;33m]\u001b[0m\u001b[1;33m,\u001b[0m\u001b[0mposition\u001b[0m\u001b[1;33m[\u001b[0m\u001b[1;36m1\u001b[0m\u001b[1;33m]\u001b[0m\u001b[1;33m)\u001b[0m\u001b[1;33m\u001b[0m\u001b[1;33m\u001b[0m\u001b[0m\n\u001b[0m\u001b[0;32m      8\u001b[0m         \u001b[0mcnt\u001b[0m \u001b[1;33m=\u001b[0m \u001b[0mcnt\u001b[0m \u001b[1;33m+\u001b[0m \u001b[1;36m1\u001b[0m\u001b[1;33m\u001b[0m\u001b[1;33m\u001b[0m\u001b[0m\n\u001b[0;32m      9\u001b[0m     \u001b[1;32mif\u001b[0m \u001b[0mcnt\u001b[0m \u001b[1;33m>=\u001b[0m \u001b[1;36m1000\u001b[0m \u001b[1;33m:\u001b[0m\u001b[1;33m\u001b[0m\u001b[1;33m\u001b[0m\u001b[0m\n",
      "\u001b[1;32m<ipython-input-14-6bf03826aad6>\u001b[0m in \u001b[0;36mclick\u001b[1;34m(x, y)\u001b[0m\n\u001b[0;32m      1\u001b[0m \u001b[1;32mdef\u001b[0m \u001b[0mclick\u001b[0m\u001b[1;33m(\u001b[0m\u001b[0mx\u001b[0m\u001b[1;33m,\u001b[0m\u001b[0my\u001b[0m\u001b[1;33m)\u001b[0m \u001b[1;33m:\u001b[0m\u001b[1;33m\u001b[0m\u001b[1;33m\u001b[0m\u001b[0m\n\u001b[0;32m      2\u001b[0m     \u001b[0mwin32api\u001b[0m\u001b[1;33m.\u001b[0m\u001b[0mSetCursorPos\u001b[0m\u001b[1;33m(\u001b[0m\u001b[1;33m(\u001b[0m\u001b[0mx\u001b[0m\u001b[1;33m,\u001b[0m\u001b[0my\u001b[0m\u001b[1;33m)\u001b[0m\u001b[1;33m)\u001b[0m\u001b[1;33m\u001b[0m\u001b[1;33m\u001b[0m\u001b[0m\n\u001b[1;32m----> 3\u001b[1;33m     \u001b[0mwin32api\u001b[0m\u001b[1;33m.\u001b[0m\u001b[0mmouse_event\u001b[0m\u001b[1;33m(\u001b[0m\u001b[0mwin32con\u001b[0m\u001b[1;33m.\u001b[0m\u001b[0mMOUSEEVENT_LEFTDOWN\u001b[0m\u001b[1;33m,\u001b[0m\u001b[1;36m0\u001b[0m\u001b[1;33m,\u001b[0m\u001b[1;36m0\u001b[0m\u001b[1;33m)\u001b[0m\u001b[1;33m\u001b[0m\u001b[1;33m\u001b[0m\u001b[0m\n\u001b[0m\u001b[0;32m      4\u001b[0m     \u001b[0mtime\u001b[0m\u001b[1;33m.\u001b[0m\u001b[0msleep\u001b[0m\u001b[1;33m(\u001b[0m\u001b[1;36m0.01\u001b[0m\u001b[1;33m)\u001b[0m\u001b[1;33m\u001b[0m\u001b[1;33m\u001b[0m\u001b[0m\n\u001b[0;32m      5\u001b[0m     \u001b[0mwin32api\u001b[0m\u001b[1;33m.\u001b[0m\u001b[0mmouse_event\u001b[0m\u001b[1;33m(\u001b[0m\u001b[0mwin32con\u001b[0m\u001b[1;33m.\u001b[0m\u001b[0mMOUSEEVENT_LEFTUP\u001b[0m\u001b[1;33m,\u001b[0m\u001b[1;36m0\u001b[0m\u001b[1;33m,\u001b[0m\u001b[1;36m0\u001b[0m\u001b[1;33m)\u001b[0m\u001b[1;33m\u001b[0m\u001b[1;33m\u001b[0m\u001b[0m\n",
      "\u001b[1;31mAttributeError\u001b[0m: module 'win32con' has no attribute 'MOUSEEVENT_LEFTDOWN'"
     ]
    }
   ],
   "source": [
    "pyautogui.FAILSAFE = True\n",
    "cnt = 0\n",
    "while True :\n",
    "    position = pyautogui.locateOnScreen('test.PNG', confidence=0.9)\n",
    "    if position is not None:\n",
    "        print(position[0:2])\n",
    "        click(position[0],position[1])\n",
    "        cnt = cnt + 1\n",
    "    if cnt >= 1000 :\n",
    "        break\n",
    "print(cnt)"
   ]
  },
  {
   "cell_type": "code",
   "execution_count": null,
   "id": "mobile-escape",
   "metadata": {},
   "outputs": [],
   "source": []
  }
 ],
 "metadata": {
  "kernelspec": {
   "display_name": "Python 3",
   "language": "python",
   "name": "python3"
  },
  "language_info": {
   "codemirror_mode": {
    "name": "ipython",
    "version": 3
   },
   "file_extension": ".py",
   "mimetype": "text/x-python",
   "name": "python",
   "nbconvert_exporter": "python",
   "pygments_lexer": "ipython3",
   "version": "3.9.1"
  }
 },
 "nbformat": 4,
 "nbformat_minor": 5
}
