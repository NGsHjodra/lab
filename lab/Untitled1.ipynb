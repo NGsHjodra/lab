{
 "cells": [
  {
   "cell_type": "code",
   "execution_count": 1,
   "id": "hindu-suspect",
   "metadata": {},
   "outputs": [
    {
     "name": "stdout",
     "output_type": "stream",
     "text": [
      "Requirement already satisfied: pyautogui in c:\\users\\phuttimate niyakit\\appdata\\local\\programs\\python\\python39\\lib\\site-packages (0.9.52)\n",
      "Requirement already satisfied: pymsgbox in c:\\users\\phuttimate niyakit\\appdata\\local\\programs\\python\\python39\\lib\\site-packages (from pyautogui) (1.0.9)\n",
      "Requirement already satisfied: PyTweening>=1.0.1 in c:\\users\\phuttimate niyakit\\appdata\\local\\programs\\python\\python39\\lib\\site-packages (from pyautogui) (1.0.3)\n",
      "Requirement already satisfied: pyscreeze>=0.1.21 in c:\\users\\phuttimate niyakit\\appdata\\local\\programs\\python\\python39\\lib\\site-packages (from pyautogui) (0.1.27)\n",
      "Requirement already satisfied: pygetwindow>=0.0.5 in c:\\users\\phuttimate niyakit\\appdata\\local\\programs\\python\\python39\\lib\\site-packages (from pyautogui) (0.0.9)\n",
      "Requirement already satisfied: mouseinfo in c:\\users\\phuttimate niyakit\\appdata\\local\\programs\\python\\python39\\lib\\site-packages (from pyautogui) (0.1.3)\n",
      "Requirement already satisfied: pyrect in c:\\users\\phuttimate niyakit\\appdata\\local\\programs\\python\\python39\\lib\\site-packages (from pygetwindow>=0.0.5->pyautogui) (0.1.4)\n",
      "Requirement already satisfied: pyperclip in c:\\users\\phuttimate niyakit\\appdata\\local\\programs\\python\\python39\\lib\\site-packages (from mouseinfo->pyautogui) (1.8.2)\n",
      "Requirement already satisfied: opencv-python in c:\\users\\phuttimate niyakit\\appdata\\local\\programs\\python\\python39\\lib\\site-packages (4.5.2.52)\n",
      "Requirement already satisfied: numpy>=1.19.3 in c:\\users\\phuttimate niyakit\\appdata\\local\\programs\\python\\python39\\lib\\site-packages (from opencv-python) (1.20.1)\n",
      "Requirement already satisfied: pywin32 in c:\\users\\phuttimate niyakit\\appdata\\roaming\\python\\python39\\site-packages (300)\n"
     ]
    }
   ],
   "source": [
    "!pip install pyautogui\n",
    "!pip install opencv-python\n",
    "!pip install pywin32"
   ]
  },
  {
   "cell_type": "code",
   "execution_count": 1,
   "id": "dress-moldova",
   "metadata": {},
   "outputs": [],
   "source": [
    "import pyautogui\n",
    "import time\n",
    "import cv2\n",
    "import win32api, win32con"
   ]
  },
  {
   "cell_type": "code",
   "execution_count": 2,
   "id": "regulated-diameter",
   "metadata": {},
   "outputs": [],
   "source": [
    "def click(x,y) :\n",
    "    win32api.SetCursorPos((x,y))\n",
    "    win32api.mouse_event(win32con.MOUSEEVENTF_LEFTDOWN,0,0)\n",
    "    time.sleep(0.01)\n",
    "    win32api.mouse_event(win32con.MOUSEEVENTF_LEFTUP,0,0)"
   ]
  },
  {
   "cell_type": "code",
   "execution_count": 4,
   "id": "acceptable-adolescent",
   "metadata": {},
   "outputs": [],
   "source": [
    "def Oneclick(filename):\n",
    "    while True :\n",
    "        position = pyautogui.locateOnScreen(filename, confidence=0.9)\n",
    "        if position is not None:\n",
    "            click(position)\n",
    "            print(filename + \" clicked\")\n",
    "            break\n",
    "    \n",
    "def Multipleclick(filename):\n",
    "    while True :\n",
    "        position = pyautogui.locateOnScreen(filename, confidence=0.9)\n",
    "        \n",
    "        if position is None :\n",
    "            pyautogui.scroll(-500) \n",
    "            print(\"srcoll\")\n",
    "            position = pyautogui.locateOnScreen(filename, confidence=0.9)\n",
    "        \n",
    "            if position is None:\n",
    "                print(\"pass\") \n",
    "                break\n",
    "            \n",
    "        click(position)\n",
    "        print(filename + \" clicked\")\n",
    "        \n",
    "def InitTask(filename):\n",
    "     while True :\n",
    "        position = pyautogui.locateOnScreen(filename, confidence=0.9)\n",
    "        if position is not None:\n",
    "            \n",
    "            break"
   ]
  },
  {
   "cell_type": "code",
   "execution_count": 22,
   "id": "productive-rolling",
   "metadata": {},
   "outputs": [
    {
     "name": "stdout",
     "output_type": "stream",
     "text": [
      "1\n",
      "2\n",
      "3\n",
      "4\n",
      "5\n",
      "6\n",
      "7\n",
      "8\n",
      "9\n",
      "10\n"
     ]
    }
   ],
   "source": [
    "cnt = 0\n",
    "while True :\n",
    "    position = pyautogui.locateOnScreen('reddot.PNG', confidence=0.9)\n",
    "    if position is not None:\n",
    "        #print(position)\n",
    "        click(int(position[0] + position[2]/2), int(position[1] + position[3]/2))\n",
    "        cnt = cnt + 1\n",
    "        print(cnt)\n",
    "    if cnt >= 10 :\n",
    "        break\n",
    "    "
   ]
  },
  {
   "cell_type": "code",
   "execution_count": 5,
   "id": "golden-pressure",
   "metadata": {},
   "outputs": [],
   "source": [
    "cnt = 0\n",
    "time.sleep(10)\n",
    "\n",
    "while True :\n",
    "    cnt = cnt + 1\n",
    "    \n",
    "    win32api.mouse_event(win32con.MOUSEEVENTF_LEFTDOWN,0,0)\n",
    "    time.sleep(0.01)\n",
    "    win32api.mouse_event(win32con.MOUSEEVENTF_LEFTUP,0,0)\n",
    "    \n",
    "    if cnt >= 100 :\n",
    "        break"
   ]
  },
  {
   "cell_type": "code",
   "execution_count": null,
   "id": "cubic-chart",
   "metadata": {},
   "outputs": [],
   "source": []
  }
 ],
 "metadata": {
  "kernelspec": {
   "display_name": "Python 3",
   "language": "python",
   "name": "python3"
  },
  "language_info": {
   "codemirror_mode": {
    "name": "ipython",
    "version": 3
   },
   "file_extension": ".py",
   "mimetype": "text/x-python",
   "name": "python",
   "nbconvert_exporter": "python",
   "pygments_lexer": "ipython3",
   "version": "3.9.1"
  }
 },
 "nbformat": 4,
 "nbformat_minor": 5
}
