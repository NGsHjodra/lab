{
 "cells": [
  {
   "cell_type": "code",
   "execution_count": 1,
   "id": "finished-northwest",
   "metadata": {},
   "outputs": [
    {
     "name": "stdout",
     "output_type": "stream",
     "text": [
      "Defaulting to user installation because normal site-packages is not writeable\n",
      "Requirement already satisfied: pyautogui in c:\\users\\phuttimate\\appdata\\roaming\\python\\python39\\site-packages (0.9.52)\n",
      "Requirement already satisfied: pymsgbox in c:\\users\\phuttimate\\appdata\\roaming\\python\\python39\\site-packages (from pyautogui) (1.0.9)\n",
      "Requirement already satisfied: PyTweening>=1.0.1 in c:\\users\\phuttimate\\appdata\\roaming\\python\\python39\\site-packages (from pyautogui) (1.0.3)\n",
      "Requirement already satisfied: pyscreeze>=0.1.21 in c:\\users\\phuttimate\\appdata\\roaming\\python\\python39\\site-packages (from pyautogui) (0.1.27)\n",
      "Requirement already satisfied: pygetwindow>=0.0.5 in c:\\users\\phuttimate\\appdata\\roaming\\python\\python39\\site-packages (from pyautogui) (0.0.9)\n",
      "Requirement already satisfied: mouseinfo in c:\\users\\phuttimate\\appdata\\roaming\\python\\python39\\site-packages (from pyautogui) (0.1.3)\n",
      "Requirement already satisfied: pyrect in c:\\users\\phuttimate\\appdata\\roaming\\python\\python39\\site-packages (from pygetwindow>=0.0.5->pyautogui) (0.1.4)\n",
      "Requirement already satisfied: pyperclip in c:\\users\\phuttimate\\appdata\\roaming\\python\\python39\\site-packages (from mouseinfo->pyautogui) (1.8.2)\n",
      "Defaulting to user installation because normal site-packages is not writeable\n",
      "Requirement already satisfied: opencv-python in c:\\users\\phuttimate\\appdata\\roaming\\python\\python39\\site-packages (4.5.2.54)\n",
      "Requirement already satisfied: numpy>=1.19.3 in c:\\users\\phuttimate\\appdata\\roaming\\python\\python39\\site-packages (from opencv-python) (1.21.0)\n",
      "Defaulting to user installation because normal site-packages is not writeable\n",
      "Requirement already satisfied: pywin32 in c:\\users\\phuttimate\\appdata\\roaming\\python\\python39\\site-packages (301)\n",
      "Defaulting to user installation because normal site-packages is not writeable\n",
      "Requirement already satisfied: pillow in c:\\users\\phuttimate\\appdata\\roaming\\python\\python39\\site-packages (8.3.0)\n"
     ]
    }
   ],
   "source": [
    "!pip install pyautogui\n",
    "!pip install opencv-python\n",
    "!pip install pywin32\n",
    "!pip install pillow"
   ]
  },
  {
   "cell_type": "code",
   "execution_count": 1,
   "id": "concerned-presence",
   "metadata": {},
   "outputs": [],
   "source": [
    "import pyautogui\n",
    "import time\n",
    "import cv2\n",
    "import webbrowser\n",
    "import win32api, win32con"
   ]
  },
  {
   "cell_type": "code",
   "execution_count": 2,
   "id": "cheap-cardiff",
   "metadata": {},
   "outputs": [],
   "source": [
    "def click (position) :\n",
    "    x = int(position[0] + position[2]/2)\n",
    "    y = int(position[1] + position[3]/2)\n",
    "    win32api.SetCursorPos((x,y))\n",
    "    win32api.mouse_event(win32con.MOUSEEVENTF_LEFTDOWN,0,0)\n",
    "    time.sleep(0.01)\n",
    "    win32api.mouse_event(win32con.MOUSEEVENTF_LEFTUP,0,0)\n",
    "    \n",
    "def clicklogout (position) :\n",
    "    x = int(position[0] + position[2]/2) - 30\n",
    "    y = int(position[1] + position[3]/2) - 5\n",
    "    win32api.SetCursorPos((x,y))\n",
    "    win32api.mouse_event(win32con.MOUSEEVENTF_LEFTDOWN,0,0)\n",
    "    time.sleep(0.01)\n",
    "    win32api.mouse_event(win32con.MOUSEEVENTF_LEFTUP,0,0)"
   ]
  },
  {
   "cell_type": "code",
   "execution_count": 3,
   "id": "marked-cartridge",
   "metadata": {},
   "outputs": [],
   "source": [
    "def Oneclick(filename):\n",
    "    while True :\n",
    "        position = pyautogui.locateOnScreen(filename, confidence=0.9)\n",
    "        if position is not None:\n",
    "            click(position)\n",
    "            print(filename + \" clicked\")\n",
    "            break\n",
    "            \n",
    "def Oneclicklogout(filename):\n",
    "    while True :\n",
    "        position = pyautogui.locateOnScreen(filename, confidence=0.9)\n",
    "        if position is not None:\n",
    "            clicklogout(position)\n",
    "            print(filename + \" clicked\")\n",
    "            break\n",
    "    \n",
    "def Multipleclick(filename):\n",
    "    while True :\n",
    "        position = pyautogui.locateOnScreen(filename, confidence=0.9)\n",
    "        \n",
    "        if position is None :\n",
    "            pyautogui.scroll(-500) \n",
    "            print(\"srcoll\")\n",
    "            position = pyautogui.locateOnScreen(filename, confidence=0.9)\n",
    "        \n",
    "            if position is None:\n",
    "                print(\"pass\") \n",
    "                break\n",
    "            \n",
    "        click(position)\n",
    "        print(filename + \" clicked\")\n",
    "        \n",
    "def InitTask(filename):\n",
    "     while True :\n",
    "        position = pyautogui.locateOnScreen(filename, confidence=0.9)\n",
    "        if position is not None:\n",
    "            break"
   ]
  },
  {
   "cell_type": "code",
   "execution_count": null,
   "id": "failing-smooth",
   "metadata": {},
   "outputs": [],
   "source": [
    "top = ['6230549', '6230390', '6230181', '6230608', '6230441'] #\n",
    "bott = ['1109', '8240', '3381' ,'5188','5581'] #  "
   ]
  },
  {
   "cell_type": "code",
   "execution_count": null,
   "id": "italic-cooling",
   "metadata": {},
   "outputs": [
    {
     "name": "stdout",
     "output_type": "stream",
     "text": [
      "click1.PNG clicked\n",
      "click2.PNG clicked\n",
      "write\n",
      "click3.PNG clicked\n",
      "clickNo.PNG clicked\n",
      "clickNo2.PNG clicked\n",
      "clickNo2.PNG clicked\n",
      "clickNo2.PNG clicked\n",
      "clickNo2.PNG clicked\n",
      "srcoll\n",
      "clickNo2.PNG clicked\n",
      "clickNo2.PNG clicked\n",
      "clickNo2.PNG clicked\n",
      "clickNo2.PNG clicked\n",
      "srcoll\n",
      "clickNo2.PNG clicked\n",
      "clickNo2.PNG clicked\n",
      "srcoll\n",
      "clickNo2.PNG clicked\n",
      "clickNo2.PNG clicked\n",
      "clickNo2.PNG clicked\n",
      "clickNo2.PNG clicked\n",
      "srcoll\n",
      "clickNo2.PNG clicked\n",
      "clickNo2.PNG clicked\n",
      "clickNo2.PNG clicked\n",
      "clickNo2.PNG clicked\n",
      "srcoll\n",
      "clickNo2.PNG clicked\n",
      "clickNo2.PNG clicked\n",
      "clickNo2.PNG clicked\n",
      "clickNo2.PNG clicked\n",
      "srcoll\n",
      "clickNo2.PNG clicked\n",
      "clickNo2.PNG clicked\n",
      "srcoll\n",
      "pass\n",
      "save.PNG clicked\n",
      "save2.PNG clicked\n",
      "clicklogout1.PNG clicked\n",
      "clicklogout2.PNG clicked\n",
      "click1.PNG clicked\n",
      "click2.PNG clicked\n",
      "write\n",
      "click3.PNG clicked\n",
      "clickNo.PNG clicked\n",
      "clickNo2.PNG clicked\n",
      "clickNo2.PNG clicked\n",
      "clickNo2.PNG clicked\n",
      "clickNo2.PNG clicked\n",
      "srcoll\n",
      "clickNo2.PNG clicked\n",
      "srcoll\n",
      "clickNo2.PNG clicked\n",
      "clickNo2.PNG clicked\n",
      "clickNo2.PNG clicked\n",
      "clickNo2.PNG clicked\n",
      "srcoll\n",
      "clickNo2.PNG clicked\n",
      "clickNo2.PNG clicked\n",
      "srcoll\n",
      "clickNo2.PNG clicked\n",
      "clickNo2.PNG clicked\n",
      "clickNo2.PNG clicked\n",
      "clickNo2.PNG clicked\n",
      "srcoll\n",
      "clickNo2.PNG clicked\n",
      "clickNo2.PNG clicked\n",
      "clickNo2.PNG clicked\n",
      "clickNo2.PNG clicked\n",
      "srcoll\n",
      "clickNo2.PNG clicked\n",
      "clickNo2.PNG clicked\n",
      "clickNo2.PNG clicked\n",
      "clickNo2.PNG clicked\n",
      "srcoll\n",
      "clickNo2.PNG clicked\n",
      "clickNo2.PNG clicked\n",
      "clickNo2.PNG clicked\n",
      "clickNo2.PNG clicked\n",
      "srcoll\n",
      "clickNo2.PNG clicked\n",
      "clickNo2.PNG clicked\n",
      "clickNo2.PNG clicked\n",
      "clickNo2.PNG clicked\n",
      "srcoll\n",
      "clickNo2.PNG clicked\n",
      "clickNo2.PNG clicked\n",
      "clickNo2.PNG clicked\n",
      "clickNo2.PNG clicked\n",
      "clickNo2.PNG clicked\n",
      "clickNo2.PNG clicked\n",
      "srcoll\n",
      "pass\n",
      "save.PNG clicked\n",
      "save2.PNG clicked\n",
      "clicklogout1.PNG clicked\n",
      "clicklogout2.PNG clicked\n",
      "click1.PNG clicked\n",
      "click2.PNG clicked\n",
      "write\n",
      "click3.PNG clicked\n"
     ]
    }
   ],
   "source": [
    "webbrowser.open('https://netcovid.sut.ac.th/auth/', new=1)\n",
    "#pyautogui.FAILSAFE = True\n",
    "\n",
    "for i in range(len(top)): \n",
    "    Oneclick('click1.PNG')\n",
    "    Oneclick('click2.PNG') \n",
    "    #pyautogui.write('')#6230549 6230390 6230181\n",
    "    pyautogui.write(top[i])\n",
    "    print(\"write\") \n",
    "    Oneclick('click3.PNG') \n",
    "    #pyautogui.write('')#1109 1109 3381\n",
    "    pyautogui.write(bott[i])\n",
    "    pyautogui.press('enter')\n",
    "    Oneclick('clickNo.PNG')\n",
    "    Multipleclick('clickNo2.PNG')\n",
    "    Oneclick('save.PNG')\n",
    "    Oneclick('save2.PNG')\n",
    "    time.sleep(1)\n",
    "    Oneclicklogout('clicklogout1.PNG')\n",
    "    Oneclick('clicklogout2.PNG')"
   ]
  },
  {
   "cell_type": "code",
   "execution_count": 17,
   "id": "respected-florence",
   "metadata": {},
   "outputs": [
    {
     "name": "stdout",
     "output_type": "stream",
     "text": [
      "clicklogout1.PNG clicked\n",
      "clicklogout2.PNG clicked\n"
     ]
    }
   ],
   "source": [
    "Oneclicklogout('clicklogout1.PNG')\n",
    "Oneclick('clicklogout2.PNG')"
   ]
  },
  {
   "cell_type": "code",
   "execution_count": 6,
   "id": "0dde5668-ef61-4c8a-988a-f42ebf77fc79",
   "metadata": {},
   "outputs": [
    {
     "name": "stdout",
     "output_type": "stream",
     "text": [
      "Defaulting to user installation because normal site-packages is not writeable\n",
      "Requirement already satisfied: Pillow in c:\\users\\phuttimate\\appdata\\roaming\\python\\python39\\site-packages (8.3.0)\n"
     ]
    }
   ],
   "source": [
    "!pip install Pillow"
   ]
  },
  {
   "cell_type": "code",
   "execution_count": 7,
   "id": "92ef6f8b-a60d-42b9-9164-17c03ee846c1",
   "metadata": {},
   "outputs": [
    {
     "name": "stdout",
     "output_type": "stream",
     "text": [
      "Capture123.PNG clicked\n"
     ]
    }
   ],
   "source": [
    "Oneclick('Capture123.PNG')"
   ]
  }
 ],
 "metadata": {
  "kernelspec": {
   "display_name": "Python 3 (ipykernel)",
   "language": "python",
   "name": "python3"
  },
  "language_info": {
   "codemirror_mode": {
    "name": "ipython",
    "version": 3
   },
   "file_extension": ".py",
   "mimetype": "text/x-python",
   "name": "python",
   "nbconvert_exporter": "python",
   "pygments_lexer": "ipython3",
   "version": "3.9.6"
  }
 },
 "nbformat": 4,
 "nbformat_minor": 5
}
